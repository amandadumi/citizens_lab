{
 "cells": [
  {
   "cell_type": "markdown",
   "metadata": {},
   "source": [
    "# Welcome to using Python!\n",
    "\n"
   ]
  },
  {
   "cell_type": "markdown",
   "metadata": {},
   "source": [
    "## Data types\n",
    "\n",
    "There are a few different data types we need to bring aware of:\n",
    "1. integers or ints\n",
    "    * whole numbers (1,2,3) \n",
    "2. floats\n",
    "    * decimal number (1.2, 0.4, 1.0, 5.18273)\n",
    "3. strings\n",
    "    * a collection of characters to be stored as text\n",
    "    * always expressed within quotes ('dog', 'three', '1.2')\n",
    "4. lists/arrays\n",
    "    * a set of other variable.\n",
    "    * represented within a set of square brakets\n",
    "    * can be ints (`[1,2,3,4]`), floats(`[1.2, 3.4, 7.0, .5]`), or strings ( `['dog', 'cat', 'snake']`)\n",
    "\n",
    "If you are ever coding and need to figure out what type a specific variable is, you can always use the command \"`type(variable_name)`\". Below we have a variable x"
   ]
  },
  {
   "cell_type": "code",
   "execution_count": 1,
   "metadata": {
    "collapsed": true
   },
   "outputs": [],
   "source": [
    "import test_answers as tes"
   ]
  },
  {
   "cell_type": "code",
   "execution_count": null,
   "metadata": {
    "collapsed": true
   },
   "outputs": [],
   "source": [
    "# set x to a float value\n",
    "x=\n",
    "#the line below will call a function to check your answer. Do not change it!\n",
    "tes.check_x(x)"
   ]
  },
  {
   "cell_type": "code",
   "execution_count": null,
   "metadata": {
    "collapsed": true
   },
   "outputs": [],
   "source": [
    "# set y to an int value\n",
    "y=\n",
    "#the line below will call a function to check your answer. Do not change it!\n",
    "tes.check_y(y)"
   ]
  },
  {
   "cell_type": "code",
   "execution_count": null,
   "metadata": {
    "collapsed": true
   },
   "outputs": [],
   "source": [
    "# set z to an str value\n",
    "z=\n",
    "#the line below will call a function to check your answer. Do not change it!\n",
    "tes.check_z(z)"
   ]
  },
  {
   "cell_type": "markdown",
   "metadata": {},
   "source": [
    "# Mathematical Operations\n",
    "\n",
    "There are also a collection of mathematical operations you will see throughout the notebooks. The table below summarizes them. \n",
    "\n",
    "| symbol        | operation     |\n",
    "| ------------- |:-------------:|\n",
    "| +             | addition      |\n",
    "| -             | subtraction   |\n",
    "| *             | multiplication|\n",
    "| /             | division      |\n",
    "| **            | exponentiate  |\n",
    "| %             | modulo        |\n",
    "\n",
    "The only one that may not be intuitive is the % operation. This will return the remainder of dividing two numbers. The code block that follows just shows an example of each command being used and prints out the result. You do not have to code anything below, but use these as reference later!\n"
   ]
  },
  {
   "cell_type": "code",
   "execution_count": null,
   "metadata": {
    "collapsed": true
   },
   "outputs": [],
   "source": [
    "add=4+3\n",
    "print('addition: {}'.format(add))\n",
    "\n",
    "subtract = 4-3\n",
    "print('subtraction: {}'.format(subtract))\n",
    "\n",
    "multiply = 4*3\n",
    "print('multiplication: {}'.format(multiply))\n",
    "\n",
    "divide = 4/3\n",
    "print('division: {}'.format(divide))\n",
    "\n",
    "exponent= 4**3\n",
    "print('exponentiation: {}'.format(exponent))\n",
    "\n",
    "modulus=4%3\n",
    "print('remainder: {}'.format(modulus))\n",
    "\n",
    "\n",
    "\n",
    "\n"
   ]
  },
  {
   "cell_type": "markdown",
   "metadata": {},
   "source": [
    "## Your Task!\n",
    "set the variables below according to the instructions:\n",
    "1. assign the variable 'add' the sum of 1745 and 8765.1\n",
    "2. assign the variable 'subtract' as the differnce between 4587.6 and 423.9 \n",
    "3. assign the variable 'multiply' to 54 multiplied by 76\n",
    "4. assign the variable 'divide' to 76 divided by 9\n",
    "5. assign the variable exponent to 37 raised to the 6 power\n",
    "6. assign the varaible 'modulus' to return the remainder of 87 divided by 6.9\n",
    "\n"
   ]
  },
  {
   "cell_type": "code",
   "execution_count": null,
   "metadata": {
    "collapsed": true
   },
   "outputs": [],
   "source": [
    "add = \n",
    "subtract = \n",
    "multiply =\n",
    "divide =\n",
    "exponent =\n",
    "modulus =\n",
    "\n",
    "#the line below will call a function to check your answer. Do not change it!\n",
    "tes.check_math_operation(add,subtract,multiply,divide,exponent,modulus)"
   ]
  },
  {
   "cell_type": "markdown",
   "metadata": {},
   "source": [
    "# Parentheses\n",
    "\n",
    "As when working with graphing calculators or excel, parantheses are used to direct your order of operations, otherwise they are carried out in a linear fashion. "
   ]
  },
  {
   "cell_type": "code",
   "execution_count": null,
   "metadata": {
    "collapsed": true
   },
   "outputs": [],
   "source": [
    "#parentheses\n",
    "\n",
    "try1=(4+3)/5+(6*9)/(3+2)\n",
    "try2=4+3/5+6*9/3+2\n",
    "print(try1)\n",
    "print(try2)"
   ]
  },
  {
   "cell_type": "markdown",
   "metadata": {},
   "source": [
    "## Your task\n",
    "\n",
    "try coding the following expression, utilizing parenthesis. \n",
    "\n",
    "$$\\frac{8+9^{2+5}}{6-5*7}$$"
   ]
  },
  {
   "cell_type": "code",
   "execution_count": null,
   "metadata": {
    "collapsed": true
   },
   "outputs": [],
   "source": [
    "#code your attempt below\n",
    "answer=\n",
    "\n",
    "#This will check your answer, do not change.\n",
    "tes.check_parentheses(answer)"
   ]
  },
  {
   "cell_type": "markdown",
   "metadata": {},
   "source": [
    "# Libraries\n",
    "\n",
    "Python has many default capabilities; however, much of Python's power is through the inclusion of external libraries. Some of these libraries are essential for doing scientific calculations (Numpy, Sympy, and Scipy. Other libraries are used to visualize our data and create plots such as matplotlib. \n",
    "\n",
    "This is fairly straightforward to incoporate. All you need is a line at the top of your script for each library you will use. You must be careful to avoid function overloading or, in other words, having two functions/operations that share the same name. The best coding practice to avoid function overloading is importing each library with a specific name abbreviated name, which requires you to refer the library specifically each time you want to call a function from that library.\n",
    "\n",
    "\n",
    "In the example below, the first line imports a library called Numpy. The varibale numpy_estimate stores the square root of two as calculated by Numpy. The second variable called scipy_estimate stores the square root of two as calculate by scipy. However, your job is to add a line to the top of this code blocks which will allow us to use the Scipy library with the name sp."
   ]
  },
  {
   "cell_type": "code",
   "execution_count": null,
   "metadata": {
    "collapsed": true
   },
   "outputs": [],
   "source": [
    "import numpy as np\n",
    "\n",
    "number_to_evaluate = 2\n",
    "\n",
    "numpy_estimate = np.sqrt(number_to_evaluate)\n",
    "scipy_estimate = sp.sqrt(number_to_evaluate)\n",
    "\n",
    "print('numpy estimate: {}\\n scipy estimate: {}'.format(numpy_estimate, scipy_estimate))\n"
   ]
  },
  {
   "cell_type": "markdown",
   "metadata": {},
   "source": [
    "# Defining Functions\n",
    "\n",
    "As you might be able to see in the last section, it could get cumbersome to retype the same operations multiple times with different numbers. Lucky for us, in Python and all other coding languages) you can defind a function that will read in variables, perform an specified operation, and return the end result. This saves use the time of typing it out each and everytime and also avoids the error that comes along with that.\n",
    "\n",
    "Function definitions are usually given at the beginning of a script after the imports. An example function is given below"
   ]
  },
  {
   "cell_type": "code",
   "execution_count": null,
   "metadata": {
    "collapsed": true
   },
   "outputs": [],
   "source": [
    "def example_function(variable1, variable2):\n",
    "    answer = variable1*np.sqrt(variable2)/(variable1+variable2)\n",
    "    return answer"
   ]
  },
  {
   "cell_type": "markdown",
   "metadata": {},
   "source": [
    "to start defining a function, you type 'def'. The name following it will always be the name of the function, in our case 'example_function'. The parantheses after the function contain the arguments read into the function when it is called. Our function takes two variables, 'variable1' and 'variable2'. Everything indented under the def statment will be done each and every time the function is called. The final line return what will be assigned to a variable, in our case it's the result of the following equation:\n",
    "\n",
    "$$\\frac{x_1\\ \\times\\ \\sqrt(x_2)}{x_1\\ +\\ x_2}$$\n",
    "We will print the output of our function in the cell below using 3 as variable1 and 5 as variable2."
   ]
  },
  {
   "cell_type": "code",
   "execution_count": null,
   "metadata": {
    "collapsed": true
   },
   "outputs": [],
   "source": [
    "answer = example_function(3, 5)\n",
    "print(answer)"
   ]
  },
  {
   "cell_type": "markdown",
   "metadata": {},
   "source": [
    "## Your task!\n",
    "\n",
    "Code a function called 'my_function' that takes in two variables as arguments. Can you code a function that returns the result of the following equation:\n",
    "$$\\frac{x_1 \\times (x_1-x_2)}{x_2^{x_1}}$$"
   ]
  },
  {
   "cell_type": "code",
   "execution_count": null,
   "metadata": {
    "collapsed": true
   },
   "outputs": [],
   "source": [
    "#code your function here\n",
    "\n",
    "#now assign the ouput of the function to the variable answer\n",
    "answer= \n",
    "\n",
    "# print the result here\n"
   ]
  },
  {
   "cell_type": "markdown",
   "metadata": {},
   "source": [
    "Now lets test your function, plug in 3 as the first variable and 5 as the second variable. "
   ]
  },
  {
   "cell_type": "code",
   "execution_count": null,
   "metadata": {
    "collapsed": true
   },
   "outputs": [],
   "source": [
    "tes.check_function(answer)"
   ]
  }
 ],
 "metadata": {
  "kernelspec": {
   "display_name": "Python 3",
   "language": "python",
   "name": "python3"
  },
  "language_info": {
   "codemirror_mode": {
    "name": "ipython",
    "version": 3
   },
   "file_extension": ".py",
   "mimetype": "text/x-python",
   "name": "python",
   "nbconvert_exporter": "python",
   "pygments_lexer": "ipython3",
   "version": "3.6.1"
  }
 },
 "nbformat": 4,
 "nbformat_minor": 2
}
