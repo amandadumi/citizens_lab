{
 "cells": [
  {
   "cell_type": "markdown",
   "metadata": {},
   "source": [
    "# Plotting\n",
    "\n",
    "We often imagine scientists as running experiments and taking measurments, but data visualization is essential to understanding results and sharing it with the scientific community.\n",
    "\n",
    "\n",
    "We have the following goals today:\n",
    "\n",
    "1) plot raw data\n",
    "\n",
    "2) create a function\n",
    "\n",
    "3) generating a range of equally spaced x-values\n",
    "\n",
    "4) plot the values of a function\n",
    "\n",
    "To begin we need to import matplolib. We have done this for you in the first line of the code block below. Additionally, we have loaded a set of raw data for our x values and y-values to create your first plot. \n",
    "\n",
    "*You don't have to add any lines of code. There will not be any output,* **BUT MAKE SURE YOU RUN THE CODE BLOCK OR YOU'LL GET WEIRD ERRORS!**\n",
    "\n"
   ]
  },
  {
   "cell_type": "code",
   "execution_count": 1,
   "metadata": {
    "collapsed": true
   },
   "outputs": [],
   "source": [
    "%matplotlib notebook\n",
    "#importing matplotlib libraries for plotting\n",
    "import matplotlib.pyplot as plt\n",
    "import numpy as np\n",
    "\n",
    "#raw x data\n",
    "x_vals = np.array([1, 2, 3, 4, 5])\n",
    "y_vals = np.array([1, 2, 3, 4, 5])"
   ]
  },
  {
   "cell_type": "markdown",
   "metadata": {},
   "source": [
    "In the next block we will create the figure and plot our x and y data.\n",
    "\n",
    "The first line will create a figure object, or in other words the base to place the plots on. The second plots the data and allows us to customize the plot. Finally, the last line instructs the code to display the plot on the screen for us to see.\n",
    "\n",
    "## Your Task!\n",
    "1. run the code block below without making any changes. You should see a diagonal line!\n",
    "2. Change the color of the line to be red by changing the string that is assigned to `color` "
   ]
  },
  {
   "cell_type": "code",
   "execution_count": null,
   "metadata": {
    "collapsed": true
   },
   "outputs": [],
   "source": [
    "fig = plt.figure()\n",
    "plt.plot(x_vals, y_vals, color = 'green')\n",
    "plt.show()"
   ]
  },
  {
   "cell_type": "markdown",
   "metadata": {},
   "source": [
    "This is pretty great, but this plot doesn't really tell us what we are plotting... Let's add some labels!\n",
    "Here's an example plot with labels.\n",
    "\n",
    "*You do not need to add any lines of code, just run the code block and observe the output!*"
   ]
  },
  {
   "cell_type": "code",
   "execution_count": null,
   "metadata": {
    "collapsed": true
   },
   "outputs": [],
   "source": [
    "fig = plt.figure()\n",
    "plt.plot(x_vals, y_vals, color = 'green')\n",
    "\n",
    "plt.xlabel('x') #the label of the x-axis\n",
    "plt.ylabel('y') #the label of the y-axis\n",
    "plt.title(\"Example Plot\") # the title of the plot\n",
    "\n",
    "fig.set_tight_layout(True) #This ensure our labels and title are displayed will\n",
    "plt.show()"
   ]
  },
  {
   "cell_type": "markdown",
   "metadata": {},
   "source": [
    "## Your Task!\n",
    "\n",
    "In the empty block below, put together the two parts from above to create a plot from scratch.  Plot the same range of x values from above, but make the y-values equal $x^3$\n",
    "1. create a figure\n",
    "2. set up and x_vals variable that is the same as before\n",
    "3. create y_vals that are the cube of each x.\n",
    "4. plot your function. As a refresher:\n",
    " * create the figure \n",
    " * plot the data\n",
    "5. give your plot x labels, y labels, and a title.\n",
    "6. print the plot to screen using plt.show()"
   ]
  },
  {
   "cell_type": "code",
   "execution_count": null,
   "metadata": {
    "collapsed": true
   },
   "outputs": [],
   "source": [
    "import matplotlib.pyplot as plt\n",
    "#Your code goes in this block!\n"
   ]
  },
  {
   "cell_type": "markdown",
   "metadata": {},
   "source": [
    "# Plotting a function\n",
    "\n",
    "Often times we will want to plot collected data as above, but sometimes you will want to plot a function in terms of x. This is the first step in enabling us to fit a model to describe the data! We will show you an example first and then you will be asked to create your own!\n",
    "\n",
    "\n",
    "Below we define a function, `our_function()`, that takes x-values as input. \n",
    "\n",
    "A range of `x_vals` to plot is generated using a numpy function called `np.linspace()`. We then create `y_vals` by evaluating our `x_vals` with `our_function`. Finally, we plot the same way as the previous plots!\n",
    "\n",
    "## Your Task!\n",
    "1. Can you write the function coded in `our_function` in normal math as you would on a homework assignment or on the board? This is just as important as being able to go from a written equation to a programmed one. \n"
   ]
  },
  {
   "cell_type": "code",
   "execution_count": null,
   "metadata": {
    "collapsed": true
   },
   "outputs": [],
   "source": [
    "import numpy as np\n",
    "import matplotlib.pyplot as plt\n",
    "\n",
    "def our_function(x_input):\n",
    "    y = x_input**2 + (x_input/2)\n",
    "    return y\n",
    "\n",
    "# the line below creates 100 evenly spaced values \n",
    "#    between 0 and 2*pi\n",
    "x_vals = np.linspace(0,2*np.pi,100) \n",
    "y_vals = our_function(x_vals)\n",
    "\n",
    "\n",
    "#plotting\n",
    "fig = plt.figure()\n",
    "plt.plot(x_vals, y_vals, color = 'red')\n",
    "plt.xlabel('x')\n",
    "plt.ylabel('y')\n",
    "plt.show()\n"
   ]
  },
  {
   "cell_type": "markdown",
   "metadata": {},
   "source": [
    "## Your Task!\n",
    "\n",
    "In the cell below, you want to do the following:\n",
    "\n",
    "1. create a range of 100 x values between 0 and 2pi using `np.linspace()`.\n",
    "\n",
    "2. define `my_function` that returns \n",
    "$$y = sin(x^2) + 4cos(x)$$\n",
    "for any value of x\n",
    "\n",
    "3. plot your function plotted on the y-axis for each value of x defined in step one."
   ]
  },
  {
   "cell_type": "code",
   "execution_count": null,
   "metadata": {
    "collapsed": true
   },
   "outputs": [],
   "source": [
    "def my_function(#what variable?):\n",
    "    y = # the math you want to perform here\n",
    "    # don't forget to return something!\n",
    "    \n",
    "x_vals = # use np.linspace here!\n",
    "y_vals = # call your function here!\n",
    "\n",
    "#plot here\n"
   ]
  },
  {
   "cell_type": "code",
   "execution_count": null,
   "metadata": {
    "collapsed": true
   },
   "outputs": [],
   "source": []
  }
 ],
 "metadata": {
  "kernelspec": {
   "display_name": "Python 3",
   "language": "python",
   "name": "python3"
  },
  "language_info": {
   "codemirror_mode": {
    "name": "ipython",
    "version": 3
   },
   "file_extension": ".py",
   "mimetype": "text/x-python",
   "name": "python",
   "nbconvert_exporter": "python",
   "pygments_lexer": "ipython3",
   "version": "3.6.1"
  }
 },
 "nbformat": 4,
 "nbformat_minor": 2
}
