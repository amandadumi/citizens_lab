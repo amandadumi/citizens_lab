{
 "cells": [
  {
   "cell_type": "markdown",
   "metadata": {},
   "source": [
    "# Plotting\n",
    "\n",
    "We often imagine scientists as running experiments and taking measurments, but data visualization is essential to understanding results and sharing it with the scientific community.\n",
    "\n",
    "\n",
    "We have the following goals today:\n",
    "\n",
    "1) plot raw data\n",
    "\n",
    "2) create a function\n",
    "\n",
    "3) generating a range of equally spaced x-values\n",
    "\n",
    "4) plot the values of a function\n",
    "\n",
    "To begin we need to import matplolib. We have done this for you in the first line of the code block below. Additionally, we have loaded a set of raw data for our x values. \n",
    "\n",
    "## Your task!\n",
    "generate a set of y-data. We will create a line plot. Use the format of x_vals as a model. \n"
   ]
  },
  {
   "cell_type": "code",
   "execution_count": null,
   "metadata": {
    "collapsed": true
   },
   "outputs": [],
   "source": [
    "%matplotlib notebook\n",
    "#importing matplotlib libraries for plotting\n",
    "import matplotlib.pyplot as plt\n",
    "import numpy as np\n",
    "\n",
    "#raw x data\n",
    "x_vals = np.array([1, 2, 3, 4, 5])\n",
    "y_vals = np.array([1, 2, 3, 4, 5])"
   ]
  },
  {
   "cell_type": "markdown",
   "metadata": {},
   "source": [
    "In the next block we will create the figure and plot our x and y data.\n",
    "\n",
    "The first line will create a figure object, or in other words the base to place the plots on. The second line creates the plot. The third line actually plots the data and allows us to customize the plot. Finally, the last line instructs the code to display the plot on the screen for us to see."
   ]
  },
  {
   "cell_type": "code",
   "execution_count": null,
   "metadata": {},
   "outputs": [],
   "source": [
    "fig = plt.figure()\n",
    "plt.plot(x_vals, y_vals, color = 'green')\n",
    "plt.show()"
   ]
  },
  {
   "cell_type": "markdown",
   "metadata": {},
   "source": [
    "This is pretty great, but this plot doesn't really tell us what we are plotting... Let's add some labels!\n",
    "Here's an example plot with labels."
   ]
  },
  {
   "cell_type": "code",
   "execution_count": null,
   "metadata": {},
   "outputs": [],
   "source": [
    "# fig = plt.figure()\n",
    "# ax = fig.add_subplot(111)\n",
    "# ax\n",
    "fig = plt.figure()\n",
    "plt.plot(x_vals, y_vals, color = 'green')\n",
    "\n",
    "plt.xlabel('x')\n",
    "plt.ylabel('y')\n",
    "plt.title(\"Example Plot\")\n",
    "\n",
    "fig.set_tight_layout(True)\n",
    "plt.show()"
   ]
  },
  {
   "cell_type": "markdown",
   "metadata": {},
   "source": [
    "## Your Task!\n",
    "\n",
    "In the empty block below, put together the two parts from above to create a plot from scratch.  Plot the same range of x values from above, but make the y-values equal $x^3$"
   ]
  },
  {
   "cell_type": "code",
   "execution_count": null,
   "metadata": {},
   "outputs": [],
   "source": [
    "import matplotlib.pyplot as plt\n",
    "fig = plt.figure()\n",
    "#create your x variable and y variable\n",
    "x_vals = np.array([1, 2, 3, 4, 5])\n",
    "y_vals = x_vals**3\n",
    "#plot the figure\n",
    "plt.plot(x_vals, y_vals, color = 'green')\n",
    "plt.xlabel('x')\n",
    "plt.ylabel('y')\n",
    "fig.set_tight_layout(True)\n",
    "plt.show()\n",
    "#show the figure"
   ]
  },
  {
   "cell_type": "markdown",
   "metadata": {},
   "source": [
    "# Plotting a function\n",
    "\n",
    "Often times we will want to plot collected data as above, but sometimes you will want to plot a function in terms of x. We will show you an example first and then you will be asked to create your own!\n",
    "\n"
   ]
  },
  {
   "cell_type": "code",
   "execution_count": null,
   "metadata": {},
   "outputs": [],
   "source": [
    "import numpy as np\n",
    "import matplotlib.pyplot as plt\n",
    "\n",
    "#Our function that adds\n",
    "def our_function(x_input):\n",
    "    y = x_input**2 + (x_input/2)\n",
    "    return y\n",
    "\n",
    "\n",
    "x_vals = np.linspace(0,2*np.pi,100)\n",
    "y_vals = our_function(x_vals)\n",
    "\n",
    "\n",
    "#plotting\n",
    "fig = plt.figure()\n",
    "plt.plot(x_vals, y_vals, color = 'red')\n",
    "plt.xlabel('x')\n",
    "plt.ylabel('y')\n",
    "plt.show()\n"
   ]
  },
  {
   "cell_type": "markdown",
   "metadata": {},
   "source": [
    "## Your Task!\n",
    "\n",
    "In the cell below, you want to do the following:\n",
    "\n",
    "1. create a range of x values between 0 and 2pi. Generate 100 points.\n",
    "\n",
    "2. define a function that returns \n",
    "$$y = sin(x^2) + 4cos(x)$$\n",
    "for any value of x\n",
    "\n",
    "3. plot your function plotted on the y-axis for each value of x defined in step 1."
   ]
  },
  {
   "cell_type": "code",
   "execution_count": null,
   "metadata": {
    "collapsed": true
   },
   "outputs": [],
   "source": [
    "def my_function(#what variable?):\n",
    "    y = # the math you want to preform here\n",
    "    # don't forget to return something!\n",
    "    \n",
    "x_vals =\n",
    "y_vals = \n",
    "\n",
    "#plot here\n"
   ]
  }
 ],
 "metadata": {
  "kernelspec": {
   "display_name": "Python 3",
   "language": "python",
   "name": "python3"
  },
  "language_info": {
   "codemirror_mode": {
    "name": "ipython",
    "version": 3
   },
   "file_extension": ".py",
   "mimetype": "text/x-python",
   "name": "python",
   "nbconvert_exporter": "python",
   "pygments_lexer": "ipython3",
   "version": "3.6.2"
  }
 },
 "nbformat": 4,
 "nbformat_minor": 2
}
