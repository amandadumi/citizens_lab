{
 "cells": [
  {
   "cell_type": "markdown",
   "metadata": {},
   "source": [
    "# Sums\n",
    "When we first learned about multiplication, we learned that we could write \n",
    "$$ 3 + 3 + 3 + 3 $$\n",
    "more compactly as \n",
    "$$ 4 \\times 3 $$\n",
    "\n",
    "But what if we wanted to represent \n",
    "$$ 1 + 2 + 3 + 4 + 5 $$\n",
    "This is where the sum notation comes in handy:\n",
    "$$ \\sum_{i=1}^{5} i $$\n",
    "The sum symbol means that we are going to add up the variable i from 1 to 5.\n",
    "\n",
    "In code we can implement sums using a for loop. Run the loop below to see the progress as we sum each number and the final answer. You'll notice that we must give the range function the number we want to start with and the number we want to sum to plus 1."
   ]
  },
  {
   "cell_type": "code",
   "execution_count": 1,
   "metadata": {},
   "outputs": [
    {
     "name": "stdout",
     "output_type": "stream",
     "text": [
      "the value of answer this iteration: 1\n",
      "the value of answer this iteration: 3\n",
      "the value of answer this iteration: 6\n",
      "the value of answer this iteration: 10\n",
      "the value of answer this iteration: 15\n",
      "the final value of answer: 15\n"
     ]
    }
   ],
   "source": [
    "answer = 0\n",
    "for i in range(1, 5+1):\n",
    "    answer += i\n",
    "    print('the value of answer this iteration: {}'.format(answer))\n",
    "print('the final value of answer: {}'.format(answer))"
   ]
  },
  {
   "cell_type": "markdown",
   "metadata": {},
   "source": [
    "Let's try to code the following sum\n",
    "$$ 1^2 + 2^2 + 3^2 + 4^2 + 5^2 + 6^2 + 7^2 + 8^2 +9^2 +10^2$$\n",
    "which can be written as a sum\n",
    "$$ \\sum_{i=1}^{10}i^2 $$"
   ]
  },
  {
   "cell_type": "code",
   "execution_count": 2,
   "metadata": {},
   "outputs": [
    {
     "ename": "IndentationError",
     "evalue": "expected an indented block (<ipython-input-2-04681a38ce59>, line 4)",
     "output_type": "error",
     "traceback": [
      "\u001b[0;36m  File \u001b[0;32m\"<ipython-input-2-04681a38ce59>\"\u001b[0;36m, line \u001b[0;32m4\u001b[0m\n\u001b[0;31m    print(answer)\u001b[0m\n\u001b[0m        ^\u001b[0m\n\u001b[0;31mIndentationError\u001b[0m\u001b[0;31m:\u001b[0m expected an indented block\n"
     ]
    }
   ],
   "source": [
    "answer = 0\n",
    "for i in range(1,10+1):\n",
    "    # put code here\n",
    "print(answer)"
   ]
  },
  {
   "cell_type": "markdown",
   "metadata": {},
   "source": [
    "# Some helper functions\n",
    "You do not need to change anything below, just be sure to run the cell."
   ]
  },
  {
   "cell_type": "code",
   "execution_count": 3,
   "metadata": {},
   "outputs": [],
   "source": [
    "# Don't change these\n",
    "import numpy as np\n",
    "import matplotlib.pyplot as plt\n",
    "from IPython.display import (\n",
    "    Audio, display, clear_output)\n",
    "from ipywidgets import widgets\n",
    "from functools import partial\n",
    "%matplotlib notebook\n",
    "\n",
    "rate = 16000.\n",
    "duration = 1\n",
    "t = np.linspace(0., duration, int(rate * duration))\n"
   ]
  },
  {
   "cell_type": "markdown",
   "metadata": {},
   "source": [
    "# Lets make a Synthesizer using Python.\n",
    "\n",
    "Sound is made through pressure waves sent through the air. Using different wave patterns can help us to generate different sounds. For instance, we can see the results of four different waves below.\n",
    "\n",
    "![Waves](waves.png)\n",
    "\n",
    "\n",
    "All of these waves are functions of time and frequency. \n",
    "\n",
    "## Sin wave\n",
    "\n",
    "$$ W (f,t) = \\sin(2 \\pi f t) $$\n",
    "\n",
    "## Square wave\n",
    "\n",
    "$$ W(f,t) = \\sum_{i=1}^{1000} \\frac{4}{\\pi}\\frac{1}{(2i -1)} \\sin(2 \\pi f t (2i -1)) $$\n",
    "\n",
    "## Triangle wave\n",
    "\n",
    "$$ W(f,t) = \\sum_{i=1}^{1000} (-1^{i-1}) \\frac{1}{(2i -1)^2} \\sin(2 \\pi f t (2i -1)) $$\n",
    "\n",
    "## Saw wave\n",
    "\n",
    "$$ W(f,t) = \\sum_{i=1}^{1000} (-1^{i}) \\frac{1}{\\pi i} \\sin(2 \\pi f t i)) $$\n",
    "\n",
    "Implement these functions using python below then we can give them a listen!\n"
   ]
  },
  {
   "cell_type": "code",
   "execution_count": 4,
   "metadata": {},
   "outputs": [
    {
     "ename": "SyntaxError",
     "evalue": "invalid syntax (<ipython-input-4-abf35350feb6>, line 2)",
     "output_type": "error",
     "traceback": [
      "\u001b[0;36m  File \u001b[0;32m\"<ipython-input-4-abf35350feb6>\"\u001b[0;36m, line \u001b[0;32m2\u001b[0m\n\u001b[0;31m    wave = # put code here\u001b[0m\n\u001b[0m                          ^\u001b[0m\n\u001b[0;31mSyntaxError\u001b[0m\u001b[0;31m:\u001b[0m invalid syntax\n"
     ]
    }
   ],
   "source": [
    "def sin(f,t):\n",
    "    wave = # put code here\n",
    "    return wave\n",
    "\n",
    "def square(f,t):\n",
    "    N = 1000\n",
    "    wave = 0\n",
    "    for i in range(1,N):\n",
    "        # put code here\n",
    "    return wave   \n",
    "    \n",
    "def triangle(f,t):\n",
    "    N = 1000\n",
    "    wave = 0\n",
    "    for i in range(1,N):\n",
    "        # put code here\n",
    "    return wave    \n",
    "\n",
    "def saw(f,t):\n",
    "    N = 1000\n",
    "    wave = 0\n",
    "    for i in range(1,N):\n",
    "        # put code here\n",
    "    wave = 0.5 - wave\n",
    "    return wave\n",
    "       \n"
   ]
  },
  {
   "cell_type": "markdown",
   "metadata": {},
   "source": [
    "You can check your work by plotting with the cell block below. Don't worry about understanding these Python commands yet. The image should be similar to the one you saw above."
   ]
  },
  {
   "cell_type": "code",
   "execution_count": 5,
   "metadata": {},
   "outputs": [
    {
     "ename": "NameError",
     "evalue": "name 'sin' is not defined",
     "output_type": "error",
     "traceback": [
      "\u001b[0;31m---------------------------------------------------------------------------\u001b[0m",
      "\u001b[0;31mNameError\u001b[0m                                 Traceback (most recent call last)",
      "\u001b[0;32m<ipython-input-5-6787adf2cd7a>\u001b[0m in \u001b[0;36m<module>\u001b[0;34m()\u001b[0m\n\u001b[1;32m      1\u001b[0m \u001b[0mfig\u001b[0m\u001b[0;34m,\u001b[0m \u001b[0max\u001b[0m \u001b[0;34m=\u001b[0m \u001b[0mplt\u001b[0m\u001b[0;34m.\u001b[0m\u001b[0msubplots\u001b[0m\u001b[0;34m(\u001b[0m\u001b[0;36m1\u001b[0m\u001b[0;34m,\u001b[0m\u001b[0;36m4\u001b[0m\u001b[0;34m)\u001b[0m\u001b[0;34m\u001b[0m\u001b[0m\n\u001b[0;32m----> 2\u001b[0;31m \u001b[0max\u001b[0m\u001b[0;34m[\u001b[0m\u001b[0;36m0\u001b[0m\u001b[0;34m]\u001b[0m\u001b[0;34m.\u001b[0m\u001b[0mplot\u001b[0m\u001b[0;34m(\u001b[0m\u001b[0mt\u001b[0m\u001b[0;34m,\u001b[0m\u001b[0msin\u001b[0m\u001b[0;34m(\u001b[0m\u001b[0;36m2\u001b[0m\u001b[0;34m,\u001b[0m\u001b[0mt\u001b[0m\u001b[0;34m)\u001b[0m\u001b[0;34m)\u001b[0m\u001b[0;34m\u001b[0m\u001b[0m\n\u001b[0m\u001b[1;32m      3\u001b[0m \u001b[0max\u001b[0m\u001b[0;34m[\u001b[0m\u001b[0;36m0\u001b[0m\u001b[0;34m]\u001b[0m\u001b[0;34m.\u001b[0m\u001b[0mset_title\u001b[0m\u001b[0;34m(\u001b[0m\u001b[0;34m\"Sin\"\u001b[0m\u001b[0;34m)\u001b[0m\u001b[0;34m\u001b[0m\u001b[0m\n\u001b[1;32m      4\u001b[0m \u001b[0max\u001b[0m\u001b[0;34m[\u001b[0m\u001b[0;36m1\u001b[0m\u001b[0;34m]\u001b[0m\u001b[0;34m.\u001b[0m\u001b[0mplot\u001b[0m\u001b[0;34m(\u001b[0m\u001b[0mt\u001b[0m\u001b[0;34m,\u001b[0m\u001b[0msquare\u001b[0m\u001b[0;34m(\u001b[0m\u001b[0;36m2\u001b[0m\u001b[0;34m,\u001b[0m\u001b[0mt\u001b[0m\u001b[0;34m)\u001b[0m\u001b[0;34m)\u001b[0m\u001b[0;34m\u001b[0m\u001b[0m\n\u001b[1;32m      5\u001b[0m \u001b[0max\u001b[0m\u001b[0;34m[\u001b[0m\u001b[0;36m1\u001b[0m\u001b[0;34m]\u001b[0m\u001b[0;34m.\u001b[0m\u001b[0mset_title\u001b[0m\u001b[0;34m(\u001b[0m\u001b[0;34m\"Square\"\u001b[0m\u001b[0;34m)\u001b[0m\u001b[0;34m\u001b[0m\u001b[0m\n",
      "\u001b[0;31mNameError\u001b[0m: name 'sin' is not defined"
     ]
    },
    {
     "data": {
      "image/png": "[encoded data removed]",
      "text/plain": [
       "<Figure size 432x288 with 4 Axes>"
      ]
     },
     "metadata": {},
     "output_type": "display_data"
    }
   ],
   "source": [
    "fig, ax = plt.subplots(1,4)\n",
    "ax[0].plot(t,sin(2,t))\n",
    "ax[0].set_title(\"Sin\")\n",
    "ax[1].plot(t,square(2,t))\n",
    "ax[1].set_title(\"Square\")\n",
    "ax[2].plot(t,triangle(2,t))\n",
    "ax[2].set_title(\"Triangle\")\n",
    "ax[3].plot(t,saw(2,t))\n",
    "ax[3].set_title(\"Saw\")\n",
    "plt.tight_layout()\n",
    "plt.show()"
   ]
  },
  {
   "cell_type": "markdown",
   "metadata": {},
   "source": [
    "## The synthesizer.\n",
    "\n",
    "the code below will take the "
   ]
  },
  {
   "cell_type": "code",
   "execution_count": null,
   "metadata": {},
   "outputs": [],
   "source": [
    "# DON'T CHANGE ANY OF THIS\n",
    "notes = ['C', 'C#', 'D', 'D#', 'E', 'F', 'F#', 'G', 'G#', 'A', 'A#', 'B', 'C']\n",
    "waves = [\"Sin\",\"Square\",\"Saw\",\"Triangle\"]\n",
    "\n",
    "\n",
    "def generate_frequency(note_num,octave):\n",
    "    note_num += 3\n",
    "    \n",
    "    offset = 12*(octave-1)\n",
    "    note_num += offset\n",
    "    \n",
    "    return_freqs = 440. * 2**((note_num-49) / 12.)\n",
    "    return return_freqs\n",
    "\n",
    "layout = widgets.Layout(\n",
    "    width='60px', height='120px',\n",
    "    border='1px solid black')\n",
    "\n",
    "radio = widgets.RadioButtons(\n",
    "        options=waves,\n",
    "        value=waves[0],\n",
    "        description=\"Waveforms\",\n",
    "        disabled=False\n",
    "    )\n",
    "\n",
    "octave = widgets.IntSlider(\n",
    "    value=4,\n",
    "    min=1,\n",
    "    max=8,\n",
    "    step=1,\n",
    "    description='Test:',\n",
    "    disabled=False,\n",
    "    continuous_update=False,\n",
    "    orientation='horizontal',\n",
    "    readout=True,\n",
    "    readout_format='d'\n",
    ")\n",
    "\n",
    "buttons = []\n",
    "for f, note in enumerate(notes):\n",
    "    button = widgets.Button(description=note, layout=layout)\n",
    "    def on_button_clicked(f, b):\n",
    "        # When a button is clicked, we play the sound\n",
    "        # in a dedicated Output widget.\n",
    "        frequency = generate_frequency(f,octave.value)\n",
    "        with widgets.Output():\n",
    "            if radio.value == \"Sin\":\n",
    "                waveform = sin(frequency,t)\n",
    "            elif radio.value == \"Square\":\n",
    "                waveform = square(frequency,t)\n",
    "            elif radio.value == \"Saw\":\n",
    "                waveform = saw(frequency,t)\n",
    "            elif radio.value == \"Triangle\":\n",
    "                waveform = triangle(frequency,t)\n",
    "            display(Audio(waveform, rate=rate, autoplay=True))\n",
    "                \n",
    "    button.on_click(partial(on_button_clicked, f))\n",
    "    buttons.append(button)\n",
    "note_buttons = widgets.HBox(buttons)\n",
    "\n",
    "# We place all buttons horizontally.\n",
    "widgets.VBox([radio,note_buttons,octave])\n",
    "# widgets.Box(children=buttons)"
   ]
  }
 ],
 "metadata": {
  "kernelspec": {
   "display_name": "Python 3",
   "language": "python",
   "name": "python3"
  },
  "language_info": {
   "codemirror_mode": {
    "name": "ipython",
    "version": 3
   },
   "file_extension": ".py",
   "mimetype": "text/x-python",
   "name": "python",
   "nbconvert_exporter": "python",
   "pygments_lexer": "ipython3",
   "version": "3.6.5"
  },
  "toc": {
   "base_numbering": 1,
   "nav_menu": {},
   "number_sections": true,
   "sideBar": true,
   "skip_h1_title": false,
   "title_cell": "Table of Contents",
   "title_sidebar": "Contents",
   "toc_cell": false,
   "toc_position": {},
   "toc_section_display": true,
   "toc_window_display": false
  }
 },
 "nbformat": 4,
 "nbformat_minor": 2
}
