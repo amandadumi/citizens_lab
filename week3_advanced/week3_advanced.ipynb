{
 "cells": [
  {
   "cell_type": "markdown",
   "metadata": {},
   "source": [
    "# Advanced Topics\n",
    "\n",
    "Up until now we have been building up programming skills, now we get to apply it to real problems!\n",
    "\n",
    "Below are a few challenge problems that you can apply your programming skills to! *Read the description and ask instructors for help!* "
   ]
  },
  {
   "cell_type": "markdown",
   "metadata": {},
   "source": [
    "# 1. Calculating Pi\n",
    "\n",
    "Let's figure out the value of Pi. First let's put a circle in a box.\n",
    "\n",
    "If a circle of radius $R$ is inscribed inside a square with side length $2R$,\n",
    "then the area of the circle will be $\\pi\\times R^2$ and the area of the square will be $(2R)^2$.\n",
    "So the ratio of the area of the circle to the area of the square will be $\\pi/4$.\n",
    "This means that, if you pick $N$ points at random inside the square,\n",
    "approximately $N*\\pi/4$ of those points should fall inside the circle. \n",
    "![title](mc.jpg)\n",
    "\n",
    "\n",
    "\n",
    "This method of using random points to solve a problem is referred to as the Monte Carlo method. Although the Monte Carlo method is often useful for solving problems in physics and mathematics which\n",
    "cannot be solved by analytical means,\n",
    "it is a rather slow method of calculating $\\pi$.\n",
    "To calculate each significant digit there will have to be about $10$ times as many trials as to\n",
    "calculate the preceding significant digit.\n",
    "To make life easy, lets deal with a circle of radius 1.\n",
    "\n",
    "The algorithm, or process/set of rules to be followed in a calculation, is as follows.\n",
    "\n",
    "\n",
    "1. Pick x,y pairs at random inside the square  \n",
    "    >to accomplish this use `np.random.random()`, which generates a random number between 0 and 1. Check to see if the point is inside the circle. (example below)\n",
    "    \n",
    "2. If inside the circle, increment the counter\n",
    "3. Repeat picking and checking of points for N steps\n",
    "4. After N steps print the answer:\n",
    "    ```\n",
    "    approx_pi = 4*count_inside/N\n",
    "    ```\n",
    "    \n",
    "\n",
    "The cell below runs three lines of code to give you an example of how `np.random.random()` works. *You do not have to add lines of code, just run the cell and understand what these lines of code do!*"
   ]
  },
  {
   "cell_type": "code",
   "execution_count": null,
   "metadata": {},
   "outputs": [],
   "source": [
    "import numpy as np\n",
    "x = np.random.random()\n",
    "x"
   ]
  },
  {
   "cell_type": "markdown",
   "metadata": {},
   "source": [
    "# Your Task!\n",
    "\n",
    "Implement the algorithm explain above! \n",
    "\n",
    "### A few pointers:\n",
    "- You will want to set up your variables first you will need a variable for the number of points to throw inside the square and a variable to keep count of the number of points inside the circle.\n",
    "\n",
    "- can you think of a way to tell if a point is inside the circle? Plan it out before you try to code it. "
   ]
  },
  {
   "cell_type": "code",
   "execution_count": null,
   "metadata": {
    "collapsed": true
   },
   "outputs": [],
   "source": [
    "#import any necessary libraries\n",
    "\n",
    "#create initial variables\n",
    "\n",
    "#for loop over points\n",
    "\n",
    "#calculate final pi estimate."
   ]
  },
  {
   "cell_type": "markdown",
   "metadata": {},
   "source": [
    "# 3. Prime Number List\n",
    "\n",
    "Create a list of the first 100 prime numbers using a function called `is_it_prime`, which will return a true of false statement depending on if the number is prime or not.\n",
    "\n",
    "1. Function\n",
    "\n",
    "    * Define the function called ```is_it_prime()``` that takes a single variable as an argument.\n",
    "\n",
    "    Generate a list of values to divide our input variable by using ```np.arange()``` that begins at two, ends at the input number, and increments by 1 number at a time. This is how to use the command: ```arange(min, max, increment)``` Note here, we put out minimum value for  ```min```, the maximum value as ```max-1```, and the step size we want to take in between.\n",
    "    \n",
    "    For example: \n",
    "    Input\n",
    "   ```\n",
    "    list = np.arange(1, 5, .5)\n",
    "    print(list)\n",
    "   ```\n",
    "    Output:\n",
    "    ```\n",
    "    [1, 1.5, 2, 2.5, 3, 3.5, 4, 4.5]\n",
    "   ```\n",
    "    * have a variable that called ```is_prime``` that starts as ```False```\n",
    "    \n",
    "    * Test if the number you inputed into the function is prime. If it is prime, change the value of the ```is_prime``` to ```True```.\n",
    "    \n",
    "    * Have the function return the value of ```is_prime```.\n",
    "\n",
    "\n",
    "2. Main Code\n",
    "    * initialize variables\n",
    "    * set up while loop to print out only the desired amount of values.\n",
    "    *if something is prime append it to a list using ```np.append()```. Here is an example of using ```np.append()```\n",
    "    \n",
    "       ```\n",
    "        list = [1, 2, 3, 4]            # a list we had created containing these values\n",
    "        x = 6                          # a variable that is assigned a single value\n",
    "        list = np.append(list,x)       # append the value of x to the variable list.\n",
    "        print(list)                    # printing the list.\n",
    "\n",
    "        ```\n",
    "        Output\n",
    "        ```\n",
    "        [1, 2, 3, 4, 6]\n",
    "       ```\n",
    "\n",
    "    * increase the value of the number you are evaluating\n",
    "    * after the length of the list is 100, print the entire list."
   ]
  },
  {
   "cell_type": "code",
   "execution_count": null,
   "metadata": {
    "collapsed": true
   },
   "outputs": [],
   "source": []
  },
  {
   "cell_type": "markdown",
   "metadata": {},
   "source": [
    "# Fibonacci Sequence\n",
    "Each new term in the Fibonacci sequence is generated by adding the previous two terms. By starting with 0 and 1, the first 12 terms will be:\n",
    "$$ 0,\\ 1,\\ 1,\\ 2,\\ 3,\\ 5,\\ 8,\\ 13,\\ 21,\\ 34,\\ 55,\\ 89,\\ ... $$\n",
    "\n",
    "This series of numbers can lead to the golden ratio, which gives rise to some of the most visually appealing relationships. If we divide a number in a Fibonacci sequence by the number preceding it in the sequence, the value increasingly approaches the number 1.618, or $\\phi$, which is the most appealing ratio of width to height.\n",
    "\n",
    "By considering the terms in the Fibonacci sequence whose values do not exceed four million, find the sum of the even-valued terms.\n",
    "\n",
    "1. Initialize your variables of your initial two points. You will need a third variable to that will temporarily store the initial from the last iteration, call this variable ```temp```. As an example of a temporary variable:\n",
    "\n",
    "2. Iterate through the computation of the Fibonacci sequence ensuring that you do not surpass $4x10^6$.\n",
    "\n",
    "3. Sum up all of the even numbers in the sequence. Print this value at the end.\n"
   ]
  },
  {
   "cell_type": "code",
   "execution_count": null,
   "metadata": {
    "collapsed": true
   },
   "outputs": [],
   "source": []
  }
 ],
 "metadata": {
  "kernelspec": {
   "display_name": "Python 3",
   "language": "python",
   "name": "python3"
  },
  "language_info": {
   "codemirror_mode": {
    "name": "ipython",
    "version": 3
   },
   "file_extension": ".py",
   "mimetype": "text/x-python",
   "name": "python",
   "nbconvert_exporter": "python",
   "pygments_lexer": "ipython3",
   "version": "3.6.2"
  }
 },
 "nbformat": 4,
 "nbformat_minor": 2
}
