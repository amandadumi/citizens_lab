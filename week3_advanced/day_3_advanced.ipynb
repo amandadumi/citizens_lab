{
 "cells": [
  {
   "cell_type": "markdown",
   "metadata": {},
   "source": [
    "# 1. Calculating Pi\n",
    "If a circle of radius $R$ is inscribed inside a square with side length $2R$,\n",
    "then the area of the circle will be $\\pi\\times R^2$ and the area of the square will be $(2R)^2$.\n",
    "So the ratio of the area of the circle to the area of the square will be $\\pi/4$.\n",
    "This means that, if you pick $N$ points at random inside the square,\n",
    "approximately $N*\\pi/4$ of those points should fall inside the circle.\n",
    "\n",
    "This method of using random points to solve a problem is referred to as the Monte Carlo method. Although the Monte Carlo Method is often useful for solving problems in physics and mathematics which\n",
    "cannot be solved by analytical means,\n",
    "it is a rather slow method of calculating $\\pi$.\n",
    "To calculate each significant digit there will have to be about $10$ times as many trials as to\n",
    "calculate the preceding significant digit.\n",
    "To make life easy, lets deal with a circle of radius 1.\n",
    "\n",
    "The algorithm, or process/set of rules to be followed in a calculation, is as follows.\n",
    "\n",
    "1.Pick x,y pairs at random inside the square\n",
    "    *to accomplish this use `np.random.random()`, which generates a random number between (0,1)\n",
    "\n",
    "2. Check to see if the point is inside the circle\n",
    "3. If inside the circle, increment the counter\n",
    "4. Repeat picking and checking of points for N steps\n",
    "5. After N steps print the answer:\n",
    "    ```\n",
    "    answer = 4*count_inside/N\n",
    "    ```"
   ]
  },
  {
   "cell_type": "code",
   "execution_count": 1,
   "metadata": {},
   "outputs": [
    {
     "name": "stdout",
     "output_type": "stream",
     "text": [
      "PI ESTIMATE: 3.156\n"
     ]
    }
   ],
   "source": [
    "import numpy as np\n",
    "\n",
    "def uniform(a, b):\n",
    "    return (b - a) * np.random.random_sample() + a\n",
    "\n",
    "def inside_circle(x,y):\n",
    "    radius = 1\n",
    "    value = np.sqrt(x**2 + y**2)\n",
    "    if value <= radius:\n",
    "        return True\n",
    "    else:\n",
    "        return False\n",
    "\n",
    "num_points = 10000\n",
    "num_inside = 0\n",
    "a = -1.\n",
    "b = 1.\n",
    "\n",
    "for i in range(num_points):\n",
    "    x =  uniform(a, b)\n",
    "    y =  uniform(a, b)\n",
    "    if inside_circle(x, y):\n",
    "        num_inside += 1\n",
    "\n",
    "\n",
    "pi_estimate = ((b-a)*(b-a)) * num_inside/num_points\n",
    "print(\"PI ESTIMATE: {}\".format(pi_estimate))"
   ]
  },
  {
   "cell_type": "markdown",
   "metadata": {},
   "source": [
    "# 3. Prime Number List\n",
    "\n",
    "Create a list of the first 100 prime numbers using a function called `is_it_prime`, which will return a true of false statement depending on if the number is prime or not.\n",
    "\n",
    "1. Function\n",
    "\n",
    "    * Define the function called ```is_it_prime()``` that takes a single variable as an argument.\n",
    "\n",
    "    Generate a list of values to divide our input variable by using ```np.arange()``` that begins at two, ends at the input number, and increments by 1 number at a time.Here is some description of the command: ```arange(min, max, increment)``` Note here, we put out minimum value for  ```min```, the maximum value as ```max-1```, and the step size we want to take in between.\n",
    "    \n",
    "    For example: \n",
    "    Input\n",
    "   ```\n",
    "    list = np.arange(1, 5, .5)\n",
    "    print(list)\n",
    "   ```\n",
    "    Output:\n",
    "    ```\n",
    "    [1, 1.5, 2, 2.5, 3, 3.5, 4, 4.5]\n",
    "   ```\n",
    "    * have a variable that called \\texttt{is\\_prime} that starts as \\texttt{False}\n",
    "    \n",
    "    * Test if the number you inputed into the function is prime. If it is prime, change the value of the \\texttt{is\\_prime} to \\texttt{True}.\n",
    "    \n",
    "    * Have the function return the value of \\texttt{is\\_prime}.\n",
    "\n",
    "\n",
    "2. Main Code\n",
    "    * initialize variables\n",
    "    * set up while loop to print out only the desired amount of values.\n",
    "    *if something is prime append it to a list using ```np.append()```. Here is an example of using ```np.append()```\n",
    "    \n",
    "       ```\n",
    "        list = [1, 2, 3, 4]            # a list we had created containing these values\n",
    "        x = 6                          # a variable that is assigned a single value\n",
    "        list = np.append(list,x)       # append the value of x to the variable list.\n",
    "        print(list)                    # printing the list.\n",
    "\n",
    "        ```\n",
    "        Output\n",
    "        ```\n",
    "        [1, 2, 3, 4, 6]\n",
    "       ```\n",
    "\n",
    "    * increase the value of the number you are evaluating\n",
    "    * after the length of the list is 100, print the entire list."
   ]
  },
  {
   "cell_type": "code",
   "execution_count": 8,
   "metadata": {},
   "outputs": [
    {
     "name": "stdout",
     "output_type": "stream",
     "text": [
      "[  2   3   5   7  11  13  17  19  23  29  31  37  41  43  47  53  59  61\n",
      "  67  71  73  79  83  89  97 101 103 107 109 113 127 131 137 139 149 151\n",
      " 157 163 167 173 179 181 191 193 197 199 211 223 227 229 233 239 241 251\n",
      " 257 263 269 271 277 281 283 293 307 311 313 317 331 337 347 349 353 359\n",
      " 367 373 379 383 389 397 401 409 419 421 431 433 439 443 449 457 461 463\n",
      " 467 479 487 491 499 503 509 521 523 541]\n"
     ]
    }
   ],
   "source": [
    "import numpy as np\n",
    "def is_it_prime(x):\n",
    "    prime = False\n",
    "    list_of_divisors=np.arange(2,x,1)\n",
    "    for i in list_of_divisors:\n",
    "        z = (x)%(i)\n",
    "        if (z == 0):\n",
    "            prime = False\n",
    "            break\n",
    "        else:\n",
    "            prime = True\n",
    "    return prime\n",
    "\n",
    "\n",
    "###Main Code\n",
    "list_of_primes=[2]\n",
    "n=2\n",
    "while (len(list_of_primes) < 100):\n",
    "    p=is_it_prime(n)\n",
    "    if p ==True:\n",
    "        list_of_primes = np.append(list_of_primes,n)\n",
    "    n +=1\n",
    "print(list_of_primes)"
   ]
  },
  {
   "cell_type": "markdown",
   "metadata": {},
   "source": [
    "# Fibonacci Sequence\n",
    "Each new term in the Fibonacci sequence is generated by adding the previous two terms. By starting with 0 and 1, the first 12 terms will be:\n",
    "$$ 0,\\ 1,\\ 1,\\ 2,\\ 3,\\ 5,\\ 8,\\ 13,\\ 21,\\ 34,\\ 55,\\ 89,\\ ... $$\n",
    "\n",
    "This series of numbers can lead to the golden ratio, which is represented in the picture below gives rise to some of the most visually appealing relationships. If we divide a number in a Fibonacci sequence by the number preceding it in the sequence, the value increasingly approaches the number 1.618, or $\\phi$, which is the most appealing ratio of width to height. Below, the image on the left shows the golden ratio, and the picture on the right shows the sequence placed over the Mona Lisa.\n",
    "\n",
    "<img src=\"fibonacci.png\" style=\"width: 200px;\"> <img src=\"monalisa.jpg\" style=\"width: 200px;\">\n",
    "\n",
    "By considering the terms in the Fibonacci sequence whose values do not exceed four million, find the sum of the even-valued terms.\n",
    "\n",
    "1. Initialize your variables of your initial two points. You will need a third variable to that will temporarily store the initial from the last iteration, call this variable ```temp```. As an example of a temporary variable:\n",
    "\n",
    "2. Iterate through the computation of the Fibonacci sequence ensuring that you do not surpass $4x10^6$.\n",
    "\n",
    "3. Sum up all of the even numbers in the sequence. Print this value at the end.\n"
   ]
  },
  {
   "cell_type": "code",
   "execution_count": 10,
   "metadata": {},
   "outputs": [
    {
     "ename": "SyntaxError",
     "evalue": "invalid syntax (<ipython-input-10-408d4e5ba617>, line 5)",
     "output_type": "error",
     "traceback": [
      "\u001b[0;36m  File \u001b[0;32m\"<ipython-input-10-408d4e5ba617>\"\u001b[0;36m, line \u001b[0;32m5\u001b[0m\n\u001b[0;31m    while variable diff < 5:\u001b[0m\n\u001b[0m                      ^\u001b[0m\n\u001b[0;31mSyntaxError\u001b[0m\u001b[0;31m:\u001b[0m invalid syntax\n"
     ]
    }
   ],
   "source": [
    "variable1 = 3\n",
    "variable2 = 4\n",
    "temp = 0\n",
    "\n",
    "while variable dif < 5:\n",
    "    temp = variable1\n",
    "    variable1 = variable2\n",
    "    variable2 = variable2+4\n",
    "    \n",
    "    \n",
    "initial = 0\n",
    "old = 0\n",
    "new = 1\n",
    "end = 4e6\n",
    "total = 0\n",
    "while new <= end:\n",
    "    initial = old\n",
    "    old = new\n",
    "    new  =new  + initial\n",
    "    # print('last: {}'.format(old))\n",
    "    # print('new: {}'.format(new))\n",
    "    if old%2==0:\n",
    "        print(old)\n",
    "        total += old\n",
    "print(total)\n",
    "\n",
    "\n",
    "old, new =0,1\n",
    "total = 0\n",
    "end = 4e6\n",
    "while new <= end:\n",
    "    old,new= new, new  + old\n",
    "    # print('last: {}'.format(old))\n",
    "    # print('new: {}'.format(new))\n",
    "    if old%2==0:\n",
    "        print(old)\n",
    "        total += old\n",
    "print(total)"
   ]
  },
  {
   "cell_type": "code",
   "execution_count": null,
   "metadata": {
    "collapsed": true
   },
   "outputs": [],
   "source": []
  }
 ],
 "metadata": {
  "kernelspec": {
   "display_name": "Python 3",
   "language": "python",
   "name": "python3"
  },
  "language_info": {
   "codemirror_mode": {
    "name": "ipython",
    "version": 3
   },
   "file_extension": ".py",
   "mimetype": "text/x-python",
   "name": "python",
   "nbconvert_exporter": "python",
   "pygments_lexer": "ipython3",
   "version": "3.6.1"
  }
 },
 "nbformat": 4,
 "nbformat_minor": 2
}
