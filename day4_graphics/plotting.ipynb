{
 "cells": [
  {
   "cell_type": "markdown",
   "metadata": {},
   "source": [
    "# Plotting\n",
    "\n",
    "We often imagine scientists as running experiments and taking measurments, but data visualization is essential to understanding results and sharing it with the scientific community.\n",
    "\n",
    "\n",
    "We have the following goals today:\n",
    "\n",
    "1) plot raw data\n",
    "\n",
    "2) create a function\n",
    "\n",
    "3) generating a range of equally spaced x-values\n",
    "\n",
    "4) plot the values of a function\n",
    "\n",
    "To begin we need to import matplolib. We have done this for you in the first line of the code block below. Additionally, we have loaded a set of raw data for our x values. \n",
    "\n",
    "## Your task!\n",
    "generate a set of y-data. We will create a linear plot.Use the format of x_vals as a model. \n"
   ]
  },
  {
   "cell_type": "code",
   "execution_count": 12,
   "metadata": {
    "collapsed": true
   },
   "outputs": [],
   "source": [
    "#importing matplotlib libararies for plotting\n",
    "import matplotlib.pyplot as plt\n",
    "\n",
    "\n",
    "#raw x data\n",
    "x_vals = [1, 2, 3, 4, 5]\n",
    "y_vals = [1, 2, 3, 4, 5]\n",
    "#put your raw y data below this line"
   ]
  },
  {
   "cell_type": "markdown",
   "metadata": {},
   "source": [
    "In the next blog we will create the figure and plot our x and y data.\n",
    "\n",
    "The first line will great a figure object, or in other words the bas to place the plots on. The second line creates the plot. The third line actrually plots the data and allows us to customize the plot. Finally, the last line instructs the code to display the plot on the screen for us to see."
   ]
  },
  {
   "cell_type": "code",
   "execution_count": 13,
   "metadata": {},
   "outputs": [
    {
     "data": {
      "image/png": "[encoded data removed]",
      "text/plain": [
       "<matplotlib.figure.Figure at 0x115e028d0>"
      ]
     },
     "metadata": {},
     "output_type": "display_data"
    }
   ],
   "source": [
    "fig = plt.figure()\n",
    "ax = fig.add_subplot(111)\n",
    "ax.plot(x_vals, y_vals, color = 'green')\n",
    "plt.show()"
   ]
  },
  {
   "cell_type": "markdown",
   "metadata": {},
   "source": [
    "## Your Task!\n",
    "\n",
    "In the empty block below, put together the two parts from above to create a plot from scratch.  Plot the same range of x values from above, but allow the y-values be the cube of it's corresponding x-value."
   ]
  },
  {
   "cell_type": "code",
   "execution_count": 14,
   "metadata": {
    "collapsed": true
   },
   "outputs": [],
   "source": [
    "import matplotlib.pyplot as plt\n",
    "\n",
    "#create you x variable and y variable\n",
    "\n",
    "#plot the figure\n",
    "\n",
    "#show the figure"
   ]
  },
  {
   "cell_type": "markdown",
   "metadata": {},
   "source": [
    "# Plotting a function\n",
    "\n",
    "Often times we will want to plot collected data as above, but sometimes you will want to plot a function in terms of x. We will show you an example first and then you will be asked to create your own!\n",
    "\n"
   ]
  },
  {
   "cell_type": "code",
   "execution_count": 22,
   "metadata": {},
   "outputs": [
    {
     "data": {
      "image/png": "[encoded data removed]",
      "text/plain": [
       "<matplotlib.figure.Figure at 0x115d62860>"
      ]
     },
     "metadata": {},
     "output_type": "display_data"
    }
   ],
   "source": [
    "import numpy as np\n",
    "import matplotlib.pyplot as plt\n",
    "\n",
    "def adding_function(x_input):\n",
    "    y = x_input**2 + (x_input/2)\n",
    "    return y\n",
    "\n",
    "#test## Your Task!\n",
    "x = 4\n",
    "answer_example = adding_function(x)\n",
    "\n",
    "x_vals = np.linspace(0,2*np.pi,100)\n",
    "y_vals = adding_function(x_vals)\n",
    "\n",
    "\n",
    "#plotting\n",
    "fig = plt.figure()\n",
    "ax = fig.add_subplot(111)\n",
    "ax.plot(x_vals, y_vals, color = 'red')\n",
    "plt.show()\n"
   ]
  },
  {
   "cell_type": "markdown",
   "metadata": {},
   "source": [
    "## Your Task!\n",
    "\n",
    "In the cell below, you want to do the following:\n",
    "\n",
    "1. create a range of x values between 0 and 2pi. Generate 100 points.\n",
    "\n",
    "2. define a function that returns \n",
    "$$y = sin(x^2) + 4cos(x)$$\n",
    "for any value of x\n",
    "\n",
    "3. plot your function plotted on the y-axis for each value of x defined in step 1."
   ]
  },
  {
   "cell_type": "code",
   "execution_count": null,
   "metadata": {
    "collapsed": true
   },
   "outputs": [],
   "source": [
    "def my_function(#what variable?):\n",
    "    y = # the math you want to preform here\n",
    "    # don't for get to return something!\n",
    "    \n",
    "x_vals =\n",
    "y_vals = \n",
    "\n",
    "#plot here\n"
   ]
  }
 ],
 "metadata": {
  "kernelspec": {
   "display_name": "Python 3",
   "language": "python",
   "name": "python3"
  },
  "language_info": {
   "codemirror_mode": {
    "name": "ipython",
    "version": 3
   },
   "file_extension": ".py",
   "mimetype": "text/x-python",
   "name": "python",
   "nbconvert_exporter": "python",
   "pygments_lexer": "ipython3",
   "version": "3.6.1"
  }
 },
 "nbformat": 4,
 "nbformat_minor": 2
}
