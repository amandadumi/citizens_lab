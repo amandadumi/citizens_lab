{
 "cells": [
  {
   "cell_type": "markdown",
   "metadata": {},
   "source": [
    "# Curve Fitting\n",
    "\n",
    "Last week we learned the basics for making a quality plot and even created a few ourselves! In addition to visualizing, using our data as a model is another important skill. By this we mean using the data collected at specific points to help us predict what happens in between these intervals. For example, if you collected the temperature on every hour during the day, you could use the trend as a model to figure out the temperature at 4:30 PM.\n",
    "\n",
    "There are two different techniques we will learn today:\n",
    "1. Interpolation\n",
    "2. Extrapolation\n",
    "\n",
    "First: ** RUN THE CODE BLOCK BELOW ** "
   ]
  },
  {
   "cell_type": "code",
   "execution_count": null,
   "metadata": {
    "collapsed": true
   },
   "outputs": [],
   "source": [
    "%matplotlib notebook\n",
    "import numpy as np\n",
    "import matplotlib.pyplot as plt\n",
    "import scipy as sp\n",
    "import scipy.optimize as spopt"
   ]
  },
  {
   "cell_type": "markdown",
   "metadata": {},
   "source": [
    "## Fitting Data to a model\n",
    "\n",
    "Shiv and his roommate have been fighting over who will take the trash out. Eventually they get so mad that they decide to just leave the trash until the other person takes it out. Since they are both very stubborn, the trash just sits and starts to smell. We collected data on how bad the trash smelled as it sat for several days. \n",
    "\n",
    "Let's take a look at the data."
   ]
  },
  {
   "cell_type": "code",
   "execution_count": null,
   "metadata": {},
   "outputs": [],
   "source": [
    "x = np.loadtxt(\"x_data.txt\")\n",
    "y = np.loadtxt(\"y_data.txt\")\n",
    "\n",
    "fig = plt.figure()\n",
    "plt.xlim(0,10)\n",
    "plt.ylim(0,10)\n",
    "plt.xlabel(\"days\")\n",
    "plt.ylabel(\"smell\")\n",
    "plt.plot(x,y, marker='d',linestyle=\"None\")\n",
    "fig.set_tight_layout(True)\n",
    "plt.show()"
   ]
  },
  {
   "cell_type": "markdown",
   "metadata": {},
   "source": [
    "It looks like there is some sort of linear trend! Since we are curious scientists, let's try to figure out what this trend is.\n",
    "\n",
    "To do this we will need to\n",
    "    1. Read in data as we did above (np.loadtxt loads a text file\n",
    "    2. in the function model, return m*x + b\n",
    "    3. using Scipy's curve_fit, fit the line to the data\n",
    "    4. make a variable model_range that goes from 0 10\n",
    "    5. plot the model using model_range, m , b!"
   ]
  },
  {
   "cell_type": "code",
   "execution_count": null,
   "metadata": {},
   "outputs": [],
   "source": [
    "def model(x, m, b):\n",
    "    return \n",
    "\n",
    "# load data\n",
    "x = \n",
    "y = \n",
    "\n",
    "m,b = spopt.curve_fit(model, x, y, [1.0,1.0])[0]\n",
    "print(\"m = \",m)\n",
    "print(\"b = \",b)\n",
    "\n",
    "model_range = \n",
    "\n",
    "fig = plt.figure()\n",
    "plt.xlim(0,10)\n",
    "plt.ylim(0,10)\n",
    "plt.xlabel(\"days\")\n",
    "plt.ylabel(\"smell\")\n",
    "\n",
    "plt.plot(x,y, marker='d',linestyle=\"None\")\n",
    "plt.plot(model_range, model(model_range, m, b))\n",
    "\n",
    "fig.set_tight_layout(True)\n",
    "plt.show()"
   ]
  },
  {
   "cell_type": "markdown",
   "metadata": {},
   "source": [
    "## Using a model to make predicitions\n",
    "Once we have made a model, we can use this model to make predictions. If using a model within the range of measured value, this is called *interpolation*. Sometimes, however, we want to use the model to make predictions outside the range of measured values. When we do this, it's called extrapolation.\n",
    "\n",
    "Let's say we want to know exactly how bad it smells 6 days into the process. We didn't measure the smell at exactly 6 days because we were probably doing something more interesting than smelling trash, but with out model we can fit this:"
   ]
  },
  {
   "cell_type": "code",
   "execution_count": null,
   "metadata": {},
   "outputs": [],
   "source": [
    "print(\"smell at 6 days = \", model(6.0, m,b ))"
   ]
  },
  {
   "cell_type": "markdown",
   "metadata": {},
   "source": [
    "Shiv will throw the trash away once it gets to a smell of 8. His roommate will throw it away after 12 days. Extrapolate the model to figure out who throws it away first!"
   ]
  },
  {
   "cell_type": "code",
   "execution_count": null,
   "metadata": {
    "collapsed": true
   },
   "outputs": [],
   "source": []
  }
 ],
 "metadata": {
  "kernelspec": {
   "display_name": "Python 3",
   "language": "python",
   "name": "python3"
  },
  "language_info": {
   "codemirror_mode": {
    "name": "ipython",
    "version": 3
   },
   "file_extension": ".py",
   "mimetype": "text/x-python",
   "name": "python",
   "nbconvert_exporter": "python",
   "pygments_lexer": "ipython3",
   "version": "3.6.2"
  }
 },
 "nbformat": 4,
 "nbformat_minor": 2
}
