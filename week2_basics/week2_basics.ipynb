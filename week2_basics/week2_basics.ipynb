{
 "cells": [
  {
   "cell_type": "markdown",
   "metadata": {},
   "source": [
    "# Conditionals and Functions\n",
    "\n",
    "Often times we want to repeat a section of code multiple times. We can repeat this section of code until certain criteria is met. Alternatively, restrict access to a peice of code unless a condition is met. To  accomplish these goals there a few different tools we can use, today we can cover three.\n",
    "\n",
    "In general though, the way we can repeat code is through indentation. \n",
    "\n",
    "Topics today:\n",
    "1. while loops\n",
    "2. for loops\n",
    "3. if statements"
   ]
  },
  {
   "cell_type": "markdown",
   "metadata": {
    "collapsed": true
   },
   "source": [
    "# For Loop\n",
    "For loops will repeat a piece of code for a certain number of iterations. This number can be set manually or to be done for each item in a list. These are essential in many codes and exsist. The general structure can be seen below:\n",
    "```\n",
    "for item in (range of values):\n",
    "    repeat this code \n",
    "    increase value of iteration (automatically increases by one otherwise)\n",
    "```\n",
    "\n",
    "Let us look at a few examples! Below we will use a for loop to iterate through a list of names. In this example the variable `i` takes the value of name in the list. The code contained within the loop simply prints the name"
   ]
  },
  {
   "cell_type": "code",
   "execution_count": 1,
   "metadata": {},
   "outputs": [
    {
     "name": "stdout",
     "output_type": "stream",
     "text": [
      "jim\n",
      "pam\n",
      "dwight\n",
      "oscar\n",
      "stanley\n",
      "kelly\n",
      "ryan\n"
     ]
    }
   ],
   "source": [
    "list = ['jim','pam','dwight','oscar','stanley','kelly','ryan']\n",
    "for i in list:\n",
    "    print(i)"
   ]
  },
  {
   "cell_type": "markdown",
   "metadata": {},
   "source": [
    "We can see that the value of '`i`' is simply the name\n",
    "\n",
    "\n",
    "In another example, let us use a range of numbers to only print the first four names in the list. In this example the value of `i` will be a number, we will use this number to refer to an indicee in the list.  "
   ]
  },
  {
   "cell_type": "code",
   "execution_count": null,
   "metadata": {
    "collapsed": true
   },
   "outputs": [],
   "source": [
    "list = ['jim','pam','dwight','oscar','stanley','kelly','ryan']\n",
    "for i in range(4):\n",
    "    print(i)\n",
    "    print(list[i])"
   ]
  },
  {
   "cell_type": "markdown",
   "metadata": {},
   "source": [
    "In one last example, we can actually bring these ideas together into one convienient function, `enumerate()`."
   ]
  },
  {
   "cell_type": "markdown",
   "metadata": {},
   "source": [
    "## Your Task!\n",
    "Write your own for loop to FIRST add a 31 to a variable x and then divide the value by 94. Repeat the for loop 21 times. Print the variable at the end."
   ]
  },
  {
   "cell_type": "code",
   "execution_count": 2,
   "metadata": {},
   "outputs": [
    {
     "name": "stdout",
     "output_type": "stream",
     "text": [
      "You are incorrect. Try again!\n"
     ]
    }
   ],
   "source": [
    "import test_answers as tes\n",
    "\n",
    "x = 0 \n",
    "## write your for loop here\n",
    "\n",
    "\n",
    "\n",
    "#do not change anything below! this function checks your answer!\n",
    "tes.check_forloop(x)"
   ]
  },
  {
   "cell_type": "markdown",
   "metadata": {},
   "source": [
    "# While loops\n",
    "\n",
    "While loops are used to repeat a block of code until a certain criteria is met. \n",
    "\n",
    "```\n",
    "while complete == False:\n",
    "    do some task\n",
    "    update complete variable to True of False\n",
    "```\n",
    "\n",
    "In the example below, the code inside the loop adds two to the value of x. We want to repeat this while x is less than 24."
   ]
  },
  {
   "cell_type": "code",
   "execution_count": 4,
   "metadata": {},
   "outputs": [
    {
     "name": "stdout",
     "output_type": "stream",
     "text": [
      "2\n",
      "4\n",
      "6\n",
      "8\n",
      "10\n",
      "12\n",
      "14\n",
      "16\n",
      "18\n",
      "20\n",
      "22\n",
      "24\n"
     ]
    }
   ],
   "source": [
    "x=0\n",
    "while x < 24:\n",
    "    x+=2\n",
    "    print(x)"
   ]
  },
  {
   "cell_type": "markdown",
   "metadata": {},
   "source": [
    "# If statements\n",
    "\n",
    "If statements are easy to interpret, you an interpret them just like reading English. Let's look at the following example\n",
    "\n",
    "```\n",
    "if condition_met:\n",
    "    execute this peice of code\n",
    "```\n",
    "We start the if statment with the word '`if`', followed by the condition we want to test. If the condition is met, the indented code will be executed. It the condition is not met it will be skipped over. Lets apply it in the code block below. \n",
    "\n",
    "Play around with the value of x to see how the if statement behaves. What happens when x is equal to 0? Change the value of x to 2, 5, and 9 to see what happens."
   ]
  },
  {
   "cell_type": "code",
   "execution_count": 11,
   "metadata": {},
   "outputs": [],
   "source": [
    "x = 0\n",
    "if x < 5:\n",
    "    print('The condition was met, the value of x is {}'.format(x))\n"
   ]
  },
  {
   "cell_type": "markdown",
   "metadata": {
    "collapsed": true
   },
   "source": [
    "We can also incorporate else statements. They compliment `if` statements and can be read much in the same way. Again, let us look at  an example.\n",
    "\n",
    "```\n",
    "if condition_met:\n",
    "    execute this peice of code\n",
    "else:\n",
    "    exucute this other peice of code. \n",
    "```\n",
    "\n",
    "\n",
    "In this example, we have an if statement that test a certain condition. If that condition is met, we already know what happens! The line of code beneath it is executed. However, what we have included now is a line of code that is excuted if our condition is not met.\n",
    "\n",
    "The below example will demonstrate how we can improve the if statement we experimented with above. Again play around with this peice of code, setting x to the values of 0,5, and 7."
   ]
  },
  {
   "cell_type": "code",
   "execution_count": null,
   "metadata": {
    "collapsed": true
   },
   "outputs": [],
   "source": [
    "x = 0\n",
    "if x < 5:\n",
    "    print('The condition was met, the value of x is {}'.format(x))\n",
    "else:\n",
    "    print('The condition was not met')"
   ]
  },
  {
   "cell_type": "markdown",
   "metadata": {},
   "source": [
    "Let's bring these different statments together into an example!"
   ]
  },
  {
   "cell_type": "code",
   "execution_count": null,
   "metadata": {
    "collapsed": true
   },
   "outputs": [],
   "source": []
  }
 ],
 "metadata": {
  "kernelspec": {
   "display_name": "Python 3",
   "language": "python",
   "name": "python3"
  },
  "language_info": {
   "codemirror_mode": {
    "name": "ipython",
    "version": 3
   },
   "file_extension": ".py",
   "mimetype": "text/x-python",
   "name": "python",
   "nbconvert_exporter": "python",
   "pygments_lexer": "ipython3",
   "version": "3.6.1"
  }
 },
 "nbformat": 4,
 "nbformat_minor": 2
}
