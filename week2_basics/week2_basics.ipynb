{
 "cells": [
  {
   "cell_type": "markdown",
   "metadata": {},
   "source": [
    "# Conditionals\n",
    "\n",
    "Often times we want to repeat a section of code multiple times. We can repeat this section of code until certain criteria is met. Alternatively, we could ONLY access to a piece of code if a certain condition is met. To  accomplish these goals there a few different tools we can use, today we can cover three.\n",
    "\n",
    "In general though, **indentation** of your code will be extremely important. In Python, indentation tells the computer what is included in your conditional statment. We will see this below \n",
    "\n",
    "Topics today:\n",
    "1. for loops\n",
    "2. while loops\n",
    "3. if statements\n",
    "\n",
    "\n",
    "Run the cell below to load the code that will check some of your answers! You **WILL** get an error if you forget to press play on the code block below."
   ]
  },
  {
   "cell_type": "code",
   "execution_count": null,
   "metadata": {
    "collapsed": true
   },
   "outputs": [],
   "source": [
    "import test_answer as tes"
   ]
  },
  {
   "cell_type": "markdown",
   "metadata": {
    "collapsed": true
   },
   "source": [
    "# For Loop\n",
    "**For loops** repeat a piece of code for a certain number of iterations. This number can be set manually by the user(you), or to be done a bit more cleverly. The general structure can be seen below:\n",
    "```\n",
    "for specific_value in (range_of_values):\n",
    "    repeat this code \n",
    "    increase value of iteration (automatically increases by one otherwise)\n",
    "```\n",
    "\n",
    "In the above example, `specific_value` will typically be a number, and `range_f_values` is a exactly what is sounds like, a range of values. These values can be of many forms, but we will explore that a bit later.\n",
    "\n",
    "Let us look at a few examples! First, let's see the simplest example of a for loop. *You do not have to add any lines of code, just run the cell and observe the output* What value does `i` start at? end at?"
   ]
  },
  {
   "cell_type": "code",
   "execution_count": null,
   "metadata": {},
   "outputs": [],
   "source": [
    "range_of_values = 7\n",
    "for i in range(range_of_values):\n",
    "    print(i)"
   ]
  },
  {
   "cell_type": "markdown",
   "metadata": {},
   "source": [
    "Here, notice that `i` takes on a specific value in the range of 7. However, Python starts their indexing at 0, thus our list contains 7 values from 0-6! This is common in many programming languages and is very improtant to remember when writing your own code!\n",
    "\n",
    "## Your Task!\n",
    "Write your own for loop in the cell below that prints the value of `i` a total of 26 times. Remember to incoporated what we learned about how Python counts!\n",
    "\n",
    "Once completed of if you get stuck: Ask an instructor to check your work!"
   ]
  },
  {
   "cell_type": "code",
   "execution_count": null,
   "metadata": {
    "collapsed": true
   },
   "outputs": [],
   "source": [
    "#Your code here!\n",
    "range_of values = \n",
    "\n",
    "#write the foor loop here:\n",
    "\n"
   ]
  },
  {
   "cell_type": "markdown",
   "metadata": {},
   "source": [
    "We can also use a for loop to do math! Lets say we wanted to repeat the same mathematical expression 12 times in a row. Would you like to code the same thing 12 times? Even if would copy and paste that code twelve times, if you found an error, you would have to fix that error everywhere! Lets look at an example.\n",
    "\n",
    "Below we will learn about:\n",
    "1. Performing some math in a for loop\n",
    "2. One way to iterate in reverse for a for loop.\n",
    "3. Formatted printing!\n"
   ]
  },
  {
   "cell_type": "code",
   "execution_count": null,
   "metadata": {},
   "outputs": [],
   "source": [
    "start = 12\n",
    "end = 0 \n",
    "step_size = -1\n",
    "for i in range(start,end,step_size):\n",
    "    value = i**2\n",
    "    print('The square of {} is {}'.format(i,value))\n"
   ]
  },
  {
   "cell_type": "markdown",
   "metadata": {},
   "source": [
    "## Your task!\n",
    "1. Copy the code from above.\n",
    "2. Adapt the variables to start at 10, end at 0, and decrease by two each time.\n",
    "3. Within the loop, instead of printing $i^2$, code value to equal $i^{3+i} + 4$.\n",
    "4. Can you also adapt the print statement to read \"the result of our calculation involving `i` is `value`\"?\n",
    "\n",
    "Hint:\n",
    "* remember what we learned about parenthesis\n"
   ]
  },
  {
   "cell_type": "code",
   "execution_count": null,
   "metadata": {},
   "outputs": [],
   "source": [
    "# Your code here\n",
    "\n",
    "\n",
    "\n",
    "#The line below checks some parts of your code. Please do not change it\n",
    "tes.check_forloop1(start,end,step_size,value)"
   ]
  },
  {
   "cell_type": "markdown",
   "metadata": {},
   "source": [
    "## Your Task!\n",
    "Write your own for loop to FIRST add a 31 to a variable x and then divide the value by 94. Repeat the for loop 21 times. Print the variable at the end."
   ]
  },
  {
   "cell_type": "code",
   "execution_count": null,
   "metadata": {},
   "outputs": [],
   "source": [
    "x = 0 \n",
    "## write your for loop here\n",
    "\n",
    "\n",
    "\n",
    "#do not change anything below! this function checks your answer!\n",
    "tes.check_forloop2(x)"
   ]
  },
  {
   "cell_type": "markdown",
   "metadata": {},
   "source": [
    "## For Loop: indexing lists\n",
    "\n",
    "For loops can help us with math, but they can also be useful with strings and can be used to iterate through lists or strings or of any other data type. The example below works nealry identical to above, `i` takes on a numerical value, and we can then use that to index the list.\n",
    "\n",
    "Run the code block below to see how this works *You do not need to add lines in the code, simply run it and observe the outcome* How do we index a list?"
   ]
  },
  {
   "cell_type": "code",
   "execution_count": null,
   "metadata": {},
   "outputs": [],
   "source": [
    "name_list = ['jim','pam','dwight','oscar','stanley','kelly','ryan']\n",
    "for i in range(4):\n",
    "    print(i)\n",
    "    print(name_list[i])"
   ]
  },
  {
   "cell_type": "markdown",
   "metadata": {},
   "source": [
    "In the next example the variable `i` takes the value of name in the list. The code contained within the loop simply prints the name.\n",
    "\n",
    "Run the code block below to see how this works *You do not need to add lines in the code, simply run it and observe the outcome.* In your own words, how does this differ to what we did before?"
   ]
  },
  {
   "cell_type": "code",
   "execution_count": null,
   "metadata": {},
   "outputs": [],
   "source": [
    "list = ['jim','pam','dwight','oscar','stanley','kelly','ryan']\n",
    "for i in list:\n",
    "    print(i)"
   ]
  },
  {
   "cell_type": "markdown",
   "metadata": {},
   "source": [
    "In one last example, we can actually bring these ideas together into one convienient function, `enumerate()`."
   ]
  },
  {
   "cell_type": "markdown",
   "metadata": {},
   "source": [
    "# While loops\n",
    "\n",
    "While loops are used to repeat a block of code until a certain criteria is met. \n",
    "\n",
    "```\n",
    "while some codition is not met:\n",
    "    do some task\n",
    "```\n",
    "\n",
    "In the example below, the code inside the loop adds two to the value of x. We want to repeat this while x is less than 24. * Run the code block below to see how this works *You do not need to add lines in the code, simply run it and observe the outcome* What is the last value printied in this loop? Does that make sense to you?"
   ]
  },
  {
   "cell_type": "code",
   "execution_count": null,
   "metadata": {},
   "outputs": [],
   "source": [
    "x=0\n",
    "while x < 24:\n",
    "    x+=2\n",
    "    print(x)"
   ]
  },
  {
   "cell_type": "markdown",
   "metadata": {},
   "source": [
    "## Example problem 1\n",
    "\n",
    "Let's say you wanted to make some fuel cells to power a device...this may be sounding familiar. You know your device needs 24 volts. Each fuel cell you will make can provide 3 volts. We can use a while loop to figure out an theoretical amount of fuel cells we will need to make.\n",
    "\n",
    "We have started the code for you below, but you need to finish it! In general we are going to account for one fuel cell by increasing the variable '`fuel_cells_needed`' and simaltaneously decreasing the '`needed_voltage`' variable.\n",
    "\n",
    "\n",
    "### Your Task!\n",
    "\n",
    "1. finish coding the condition in the while loop by replacing the first set of '??'\n",
    "2. Based on the information above, decide how much to increase the fuel_cell_needed count each while loop iteration. replace the second set of '??' with the number you want to increase this variable by."
   ]
  },
  {
   "cell_type": "code",
   "execution_count": null,
   "metadata": {},
   "outputs": [],
   "source": [
    "needed_voltage = 24\n",
    "fuel_cells_needed= 0\n",
    "\n",
    "while needed_voltage ??:\n",
    "    needed_voltage-=3\n",
    "    fuel_cells_needed+=??\n",
    "print(fuel_cells_needed)\n",
    "\n",
    "#The line below checks your anwer. please don't change it\n",
    "tes.check_fuelcells(fuel_cells_needed)"
   ]
  },
  {
   "cell_type": "markdown",
   "metadata": {},
   "source": [
    "# If statements\n",
    "\n",
    "If statements are easy to interpret, you an interpret them just like reading English. Let's look at the following example\n",
    "\n",
    "```\n",
    "if condition_met:\n",
    "    execute this peice of code\n",
    "```\n",
    "We start the if statment with the word '`if`', followed by the condition we want to test. If the condition is met, the indented code will be executed. It the condition is not met it will be skipped over. Lets apply it in the code block below. \n",
    "\n",
    "Play around with the value of x to see how the if statement behaves. What happens when x is equal to 0? Change the value of x to 2, 5, and 9 to see what happens."
   ]
  },
  {
   "cell_type": "code",
   "execution_count": null,
   "metadata": {},
   "outputs": [],
   "source": [
    "x = 0\n",
    "if (x < 5):\n",
    "    print('The condition was met, the value of x is {}'.format(x))\n"
   ]
  },
  {
   "cell_type": "markdown",
   "metadata": {
    "collapsed": true
   },
   "source": [
    "We can also incorporate else statements. They compliment `if` statements and can be read much in the same way. Again, let us look at  an example.\n",
    "\n",
    "```\n",
    "if condition_met:\n",
    "    execute this piece of code.\n",
    "elif second_condition_met:\n",
    "    execute this piece of code.\n",
    "else:\n",
    "    execute this other piece of code. \n",
    "```\n",
    "\n",
    "\n",
    "In this example, we have an if statement that test a certain condition. If that condition is met, we already know what happens! The line of code beneath it is executed. However, what we have included now is a line of code that is excuted if our condition is not met.\n",
    "\n",
    "The below example will demonstrate how we can improve the if statement we experimented with above. Again play around with this peice of code, setting x to the values of 0, 2, 5, and 7."
   ]
  },
  {
   "cell_type": "code",
   "execution_count": null,
   "metadata": {},
   "outputs": [],
   "source": [
    "x = 0\n",
    "if (x < 5):\n",
    "    print('The first condition was met, the value of x is {}'.format(x))\n",
    "elif (x ==5):\n",
    "    print('The second condition was met, the value of x is {}'.format(x))\n",
    "else:\n",
    "    print('Neither condition was not met')"
   ]
  },
  {
   "cell_type": "markdown",
   "metadata": {},
   "source": [
    "#### A few things to notice:\n",
    "1. we are again using formatted printing to print some helpful output. \n",
    "2. if we want to see if a value is exactly equal to another value we use '=='"
   ]
  },
  {
   "cell_type": "markdown",
   "metadata": {},
   "source": [
    "Let's get some practice with if statements\n",
    "\n",
    "## Your Task!\n",
    "We want to write a for loop that checks if a number is postive, negative, or zero.\n",
    "We have started a code below. You need to incorporate the following \n",
    "1. replace the '#1' with code to check if the the variable x is exactly zero.\n",
    "2. the first print statment will be called when the variable is exactly zero. Replace the '#2' with an informative print statment.\n",
    "3. if the number is greater than zero, but not exactly zero, what is it? replace '#3' with an informative print statment.\n",
    "4. If a variable makes it to the else statment, it means it is neither exactly zero or >0. replace '#4' with an informative print statement."
   ]
  },
  {
   "cell_type": "code",
   "execution_count": null,
   "metadata": {},
   "outputs": [],
   "source": [
    "x= \n",
    "if num > = 0:\n",
    "    if #1:\n",
    "        print(\"#2\")\n",
    "    elif:\n",
    "        print(\"#3\")\n",
    "else:\n",
    "    print(\"#4\")\n"
   ]
  },
  {
   "cell_type": "markdown",
   "metadata": {
    "collapsed": true
   },
   "source": [
    "# Bringing them all together\n",
    "\n",
    "## First challenge \n",
    "Goal: For a list of numbers, we want to iterate through them and output an informative message if the number is even or not.\n",
    "\n",
    "Here is the framework of the code:\n",
    "```\n",
    "for i in list_of_numbers\n",
    "    if i is even:\n",
    "        print a message saying it is even\n",
    "    else: \n",
    "        print a message saying the number is not even\n",
    "```\n",
    "\n",
    "Hint:\n",
    "* The modulo function from last session may be helpful for this! If you forget how to this, you can first use the code block to test module. Type `6%2` and `5%2` and observe the output. If you need clarification, ask any of the instructors!\n",
    "\n"
   ]
  },
  {
   "cell_type": "code",
   "execution_count": null,
   "metadata": {
    "collapsed": true
   },
   "outputs": [],
   "source": [
    "## your code here\n",
    "\n"
   ]
  },
  {
   "cell_type": "markdown",
   "metadata": {},
   "source": [
    "Second Challenge:\n",
    "    "
   ]
  },
  {
   "cell_type": "code",
   "execution_count": null,
   "metadata": {
    "collapsed": true
   },
   "outputs": [],
   "source": []
  }
 ],
 "metadata": {
  "kernelspec": {
   "display_name": "Python 3",
   "language": "python",
   "name": "python3"
  },
  "language_info": {
   "codemirror_mode": {
    "name": "ipython",
    "version": 3
   },
   "file_extension": ".py",
   "mimetype": "text/x-python",
   "name": "python",
   "nbconvert_exporter": "python",
   "pygments_lexer": "ipython3",
   "version": "3.6.1"
  }
 },
 "nbformat": 4,
 "nbformat_minor": 2
}
