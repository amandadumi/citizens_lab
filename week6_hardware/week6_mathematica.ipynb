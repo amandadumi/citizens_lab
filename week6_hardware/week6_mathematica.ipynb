{
 "cells": [
  {
   "cell_type": "markdown",
   "metadata": {},
   "source": [
    "# Collecting data with Mathematica\n",
    "\n",
    "So far, we have learned a lot of programming! Now we can apply our skills of plotting in Python to visualize our own data.\n",
    "Today we will learn how to use and collect data from the pH and the energy sensors. To get a feel for the sensors we will measure temperature in real time. We will first look at collecting and plotting the pH data between water and vinegar. Secondly, we will look at measuring the true voltage of a 9 volt battery. In the future, these probes will be used to characterize the microbial fuel cells you created."
   ]
  },
  {
   "cell_type": "markdown",
   "metadata": {},
   "source": [
    "## 1. Temperature Data\n",
    "Let's first learn how to use the probes.\n",
    "\n",
    "1. Open the terminal and type ```Mathematica``` to open the program.\n",
    "2. Now we want to import the library that controls the sensors. Type: ```<<GoIO` ``` This is like a python ```import``` statement. Make sure you put the back tick at the end (FN+7)\n",
    "3. Then create a connection to the sensor. Type: ```d = DeviceOpen[\"GoIO\"]```\n",
    "4. Let's plot the temperature in real time. Type: ```goioRTInterface```"
   ]
  },
  {
   "cell_type": "markdown",
   "metadata": {},
   "source": [
    "\n",
    "## 2. pH data collection\n",
    "\n",
    "Now let's do a real experiment. pH is a measure of how acidic a solution is. A very acidic solution has a pH of around 2, and pure water should have a pH around 7. Starting with pure water, we are going to measure the pH change as we add 5 mL amounts of vinegar every 20 seconds. We will then visualize this change in a plot made with Python.\n",
    "\n",
    "### 2.1 Data collection with mathematica\n",
    "\n",
    "Materials needed\n",
    "* 200 mL beaker\n",
    "* 100 mL beaker\n",
    "* graduated cylinder • pipet/dropper\n",
    "* stopwatch\n",
    "* water\n",
    "* vinegar\n",
    "\n",
    "Procedure\n",
    "1. Obtain 50 mL of water in a 100 mL beaker.\n",
    "2. Obtain 20 mL of vinegar in a beaker.\n",
    "3. Fill the pipet/dropper with vinegar\n",
    "4. get a stopwatch ready to time 10 second intervals.\n",
    "5. Before mixing anything together, let’s set up the pH probe with the following steps.\n",
    "* from the terminal, open Mathematica.\n",
    "* Load the library for the sensor. This is similar to the import statement in Python. Type the following command:\n",
    "\n",
    "   ```\n",
    "   << GoIO`\n",
    "   ```\n",
    "\n",
    "  Note that the last character is a back tick, which is critical to this command. Type the character by hitting Fn and the 7 key at the same time.\n",
    "* Connect to the sensor.\n",
    "    \n",
    "   ```\n",
    "   d = DeviceOpen[\"GoIO\"]\n",
    "   ```\n",
    "* Set up the experiment! This will take a reading every 10 seconds for 5 mins (50 readings).\n",
    "   ```\n",
    "   experiment = goioExperiment[10,50]\n",
    "   ```\n",
    "* Start collecting data\n",
    "   ```\n",
    "   StartScheduledTask[experiment]\n",
    "   ```\n",
    "   You may not think it is doing anything, but it is!\n",
    "* add a drop of vinegar from the pipet every 10 seconds for 5 minutes. Save the data as a text file. \n",
    "   ```\n",
    "   Export[\"pHdata.txt\", goioDataList[1], \"Table\"]\n",
    "   ```\n",
    "   \n",
    "### 1.2 Plotting with Python\n",
    "\n",
    "Plot the data using the code below. Once you have plotted your data, answer the questions found [here](https://docs.google.com/forms/d/e/1FAIpQLSfiZ1Z0HuuC-jsRpcVua29SZFJ6KfDmCxzQkYpxqCiUjL4PNw/viewform?usp=sf_link)"
   ]
  },
  {
   "cell_type": "code",
   "execution_count": null,
   "metadata": {
    "collapsed": true
   },
   "outputs": [],
   "source": [
    "# import matplotlib.pyplot  and numpy here.\n",
    "\n",
    "#load the data from the textfile you exported from maethmatica\n",
    "data = np.loadtxt(\"input your file name here\")\n",
    "##\n",
    "fig = plt.figure()\n",
    "ax = fig.add_subplot(111)\n",
    "ax.plot(data[0],data[1])\n",
    "plt.xlabel(’Time / s’)\n",
    "plt.ylabel(’pH ’)\n",
    "plt.show()\n",
    "\n"
   ]
  },
  {
   "cell_type": "markdown",
   "metadata": {},
   "source": [
    "# 3. Voltage Sensor\n",
    "\n",
    "In addition to exploring the pH of the fuel cells, we will also want to know about the voltage it is generating. Is it enough to light one LED? Can it light multiple LEDs? To get used to using the energy sensor, we will collect some base data on a single 9V battery.\n",
    "## 3.1 Collecting Data with Mathematica\n",
    "1. Refer to an instructor to learn how to attach the energy aparatus to your fuel cells.\n",
    "\n",
    "2. Load the library for the sensor. This is similar to the import statement in Python. Type the following command:\n",
    "\n",
    "   ```\n",
    "   << GoIO`\n",
    "   ```\n",
    "   \n",
    "    Note that the last character is a back tick, which is critical to this command. Type the character by hitting Fn and the 7 key at the same time.\n",
    "\n",
    "3. Connect to the sensor.\n",
    "    \n",
    "   ```\n",
    "   d = DeviceOpen[\"GoIO\"]\n",
    "   ```\n",
    "4. Set up the experiment! This will take a reading every 10 seconds for 5 mins (50 readings).\n",
    "   ```\n",
    "   experiment = goioExperiment[0.1,600]\n",
    "   ```\n",
    "5. Start collecting data\n",
    "   ```\n",
    "   StartScheduledTask[experiment]\n",
    "   ```\n",
    "6. add a drop of vinegar from the pipet every 10 seconds for 5 minutes.\n",
    "7. Save the data as a text file.\n",
    "   ```\n",
    "   Export[\"voltagedata.txt\", goioDataList[1], \"Table\"]\n",
    "   ```\n",
    "  \n",
    "  \n",
    "## 3.2 Plotting with Python\n",
    "Plot the data using the code below. Once you have plotted your data, answer the questions found [here](https://docs.google.com/forms/d/e/1FAIpQLSfDGqX2JnIwVJyxTQp53Nn8AcZL51VhvADo9miIE0KZUuTXFA/viewform?usp=sf_link)"
   ]
  },
  {
   "cell_type": "code",
   "execution_count": null,
   "metadata": {
    "collapsed": true
   },
   "outputs": [],
   "source": [
    "# import matplotlib.pyplot  and numpy here.\n",
    "\n",
    "#load the data from the textfile you exported from maethmatica\n",
    "v_data = np.loadtxt(\"input your file name here\")\n",
    "##\n",
    "fig = plt.figure()\n",
    "ax = fig.add_subplot(111)\n",
    "ax.plot(v_data[0],v_data[1])\n",
    "\n",
    "\n",
    "# take the average of the voltage data\n",
    "average_voltage = np.mean(data[1])\n",
    "xmin = np.min(data[0])\n",
    "xmax = np.max(data[0])\n",
    "\n",
    "#plot the average data\n",
    "ax.plot([,], [,],label = ''average)\n",
    "\n",
    "plt.xlabel(’Time / s’)\n",
    "plt.ylabel(’Voltage’)\n",
    "\n",
    "plt.show()"
   ]
  }
 ],
 "metadata": {
  "kernelspec": {
   "display_name": "Python 3",
   "language": "python",
   "name": "python3"
  },
  "language_info": {
   "codemirror_mode": {
    "name": "ipython",
    "version": 3
   },
   "file_extension": ".py",
   "mimetype": "text/x-python",
   "name": "python",
   "nbconvert_exporter": "python",
   "pygments_lexer": "ipython3",
   "version": "3.6.2"
  }
 },
 "nbformat": 4,
 "nbformat_minor": 2
}
